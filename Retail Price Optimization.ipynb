{
 "cells": [
  {
   "cell_type": "markdown",
   "id": "0e256209",
   "metadata": {},
   "source": [
    "# Retail Price Optimization"
   ]
  },
  {
   "cell_type": "markdown",
   "id": "09ea152d",
   "metadata": {},
   "source": [
    "**Purpose**: Setting a price on a product is an imperative component of business and can either result in success or failure depending on how the process is handled. If executed correctly, the price of a product will not only be decided with the intent of generating as much profit as possible, but with the consideration of customer attraction as well. The retail price of a product that is more skewed toward maximizing returns will drive increased set prices which will usually decrease customer attraction, and therefore lead to low customer attractiveness to a product. The opposite is also destructive as setting too low of a price, even if customer attraction is high, results in not having a return on investment and perhaps revenue for the product running in the negative."
   ]
  },
  {
   "cell_type": "code",
   "execution_count": null,
   "id": "6a8fc929",
   "metadata": {},
   "outputs": [],
   "source": [
    "import pandas as pd\n",
    "import plotly.express as px\n",
    "import plotly.graph_objects as go\n",
    "import plotly.io as pio\n",
    "from scipy.stats import pearsonr\n",
    "pio.renderers.default = \"svg\"\n",
    "pio.templates.default = 'seaborn'"
   ]
  },
  {
   "cell_type": "code",
   "execution_count": null,
   "id": "74591bba",
   "metadata": {},
   "outputs": [],
   "source": [
    "data = pd.read_csv('retail_price.csv')"
   ]
  },
  {
   "cell_type": "code",
   "execution_count": null,
   "id": "60ae8a20",
   "metadata": {},
   "outputs": [],
   "source": [
    "column_dict = {'product_id':'A unique identifier for each product in the dataset.',\n",
    "               'product_category_name': 'The name of the product category to which the product belongs.',\n",
    "               'month_year': 'The month and year of the retail transaction or data recording.',\n",
    "               'qty': 'The quantity of the product sold or purchased in a given transaction.',\n",
    "               'total_price': 'The total price of the product, including any applicable taxes or discounts.',\n",
    "               'freight_price': 'The cost of shipping or freight associated with the product.',\n",
    "               'unit_price': 'The price of a single unit of the product.',\n",
    "               'product_name_length': 'The length of the product name in terms of the number of characters.',\n",
    "               'product_description_length': 'The length of the product description in terms of the number of characters.',\n",
    "               'product_photos_qty': 'The number of photos available for the product in the dataset.',\n",
    "               'product_weight_g': 'The weight of the product in grams.',\n",
    "               'product_score': 'A score or rating associated with the product’s quality, popularity, or other relevant factors.',\n",
    "               'customers': 'The number of customers who purchased the product in a given transaction.',\n",
    "               'weekday': 'The day of the week on which the transaction occurred.',\n",
    "               'weekend': 'A binary flag indicating whether the transaction occurred on a weekend (1) or not (0).',\n",
    "               'holiday': 'A binary flag indicating whether the transaction occurred on a holiday (1) or not (0).',\n",
    "               'month': 'The month in which the transaction occurred.',\n",
    "               'year': 'The year in which the transaction occurred.',\n",
    "               's': 'The effect of seasonality.',\n",
    "               'comp_1, comp_2, comp_3': 'Competitor information or variables related to competitors’ prices, promotions, or other relevant factors.',\n",
    "               'ps1, ps2, ps3': 'Product score or rating associated with competitors’ products.',\n",
    "               'fp1, fp2, fp3': 'Freight or shipping cost associated with competitors’ products.'\n",
    "              }\n",
    "print('Dictionary')\n",
    "print('----------')\n",
    "for key, value in column_dict.items():\n",
    "    print(f'{key}: {value}')\n",
    "    print('')"
   ]
  },
  {
   "cell_type": "code",
   "execution_count": null,
   "id": "964a3f59",
   "metadata": {},
   "outputs": [],
   "source": [
    "data.head()"
   ]
  },
  {
   "cell_type": "markdown",
   "id": "6363552a",
   "metadata": {},
   "source": [
    "First, we will check for null values present in the dataset."
   ]
  },
  {
   "cell_type": "code",
   "execution_count": null,
   "id": "41cf4c7a",
   "metadata": {},
   "outputs": [],
   "source": [
    "null_data = data.isnull().sum()\n",
    "null_data"
   ]
  },
  {
   "cell_type": "markdown",
   "id": "eafd1696",
   "metadata": {},
   "source": [
    "Null values are not present in the dataset."
   ]
  },
  {
   "cell_type": "markdown",
   "id": "52701a29",
   "metadata": {},
   "source": [
    "We can quickly check descriptive stats for the dataset:"
   ]
  },
  {
   "cell_type": "code",
   "execution_count": null,
   "id": "cf854f7c",
   "metadata": {},
   "outputs": [],
   "source": [
    "data.describe()"
   ]
  },
  {
   "cell_type": "markdown",
   "id": "f750a58e",
   "metadata": {},
   "source": [
    "Now, we will be creating a histogram plot to visualize the distribution of total price of the products:"
   ]
  },
  {
   "cell_type": "code",
   "execution_count": null,
   "id": "8d4ac54c",
   "metadata": {},
   "outputs": [],
   "source": [
    "fig = px.histogram(data, x='total_price', nbins=20, title='Total Price Distribution')\n",
    "fig.show()"
   ]
  },
  {
   "cell_type": "markdown",
   "id": "2fd67a9c",
   "metadata": {},
   "source": [
    "Now, we will visualize the distribution of unit prices using a box plot:"
   ]
  },
  {
   "cell_type": "code",
   "execution_count": null,
   "id": "00ef25fc",
   "metadata": {},
   "outputs": [],
   "source": [
    "fig = px.box(data, y='unit_price', title='Unit Price Distribution')\n",
    "fig.show()"
   ]
  },
  {
   "cell_type": "markdown",
   "id": "210bb6e3",
   "metadata": {},
   "source": [
    "We will now visualize the relationship between quantity and total price:"
   ]
  },
  {
   "cell_type": "code",
   "execution_count": null,
   "id": "dabd34b7",
   "metadata": {},
   "outputs": [],
   "source": [
    "fig = px.scatter(data, x='qty', y='total_price', title='Quantity vs Total Price', trendline = 'ols')\n",
    "fig.show()"
   ]
  },
  {
   "cell_type": "markdown",
   "id": "1273a2e6",
   "metadata": {},
   "source": [
    "From the Quantity vs Total Price graph we observe a linear relationship between quantity and total prices."
   ]
  },
  {
   "cell_type": "markdown",
   "id": "77d1c8f2",
   "metadata": {},
   "source": [
    "Let's statistically verify this relationship by determining the correlation among the two variables:"
   ]
  },
  {
   "cell_type": "code",
   "execution_count": null,
   "id": "caa3ab11",
   "metadata": {},
   "outputs": [],
   "source": [
    "corr, _ = pearsonr(data['qty'], data['total_price'])\n",
    "print(f'Pearson Correlation: {corr:.3f}')"
   ]
  },
  {
   "cell_type": "markdown",
   "id": "2df201e0",
   "metadata": {},
   "source": [
    "A pearson correlation value of **0.750** indicates a relatively strong positive correlation between quantity and total price"
   ]
  },
  {
   "cell_type": "markdown",
   "id": "6c2a2f94",
   "metadata": {},
   "source": [
    "Next, we will take a look at the average total prices by product categories:"
   ]
  },
  {
   "cell_type": "code",
   "execution_count": null,
   "id": "e1d4260f",
   "metadata": {},
   "outputs": [],
   "source": [
    "fig = px.bar(data, x='product_category_name', y='total_price', title='Average Total Price by Product Category')\n",
    "fig.show()"
   ]
  },
  {
   "cell_type": "markdown",
   "id": "1f08f893",
   "metadata": {},
   "source": [
    "We will now check out the distribution of total prices by weekday using boxplots:"
   ]
  },
  {
   "cell_type": "code",
   "execution_count": null,
   "id": "80b6adbb",
   "metadata": {},
   "outputs": [],
   "source": [
    "fig = px.box(data, x='weekday', y='total_price', title='Box Plot of Total Price by Weekday')\n",
    "fig.show()"
   ]
  },
  {
   "cell_type": "markdown",
   "id": "d75aea75",
   "metadata": {},
   "source": [
    "We will now check for the distribution of total prices by holiday:"
   ]
  },
  {
   "cell_type": "code",
   "execution_count": null,
   "id": "4c2418b7",
   "metadata": {},
   "outputs": [],
   "source": [
    "fig = px.box(data, x='holiday', y='total_price', title='Box Plot of Total Price by Holiday')\n",
    "fig.show()"
   ]
  },
  {
   "cell_type": "markdown",
   "id": "c374ffb2",
   "metadata": {},
   "source": [
    "Let's take a look at the correlation between the numerical features with each other:"
   ]
  },
  {
   "cell_type": "code",
   "execution_count": null,
   "id": "d3a3cb86",
   "metadata": {},
   "outputs": [],
   "source": [
    "correlation_matrix = data.corr()\n",
    "fig = go.Figure(go.Heatmap(x=correlation_matrix.columns, y=correlation_matrix.columns,\n",
    "                           z=correlation_matrix.values))\n",
    "fig.update_layout(title='Correlation Heatmap of Numerical Features')\n",
    "fig.show()"
   ]
  },
  {
   "cell_type": "markdown",
   "id": "d428a724",
   "metadata": {},
   "source": [
    "One thing to keep in mind when optimizing retail price is competitor comparisons. Other businesses have set prices as well and products must be competively priced so that consumers are more inclined to purchase a particular business's product over the other. This can be done by lowering the product price (e.g. discounts) to have the competitive edge in the overall market."
   ]
  },
  {
   "cell_type": "code",
   "execution_count": null,
   "id": "b6eb14bb",
   "metadata": {},
   "outputs": [],
   "source": [
    "data['comp_price_diff'] = data['unit_price'] - data['comp_1']\n",
    "\n",
    "avg_price_diff_by_category = data.groupby('product_category_name')['comp_price_diff'].mean().reset_index()\n",
    "\n",
    "fig = px.bar(avg_price_diff_by_category, x='product_category_name', y='comp_price_diff',\n",
    "             title='Average Competitor Price Difference by Product Category')\n",
    "fig.update_layout(xaxis_title='Product Category', yaxis_title='Average Competitor Price Difference')\n",
    "fig.show()"
   ]
  },
  {
   "cell_type": "markdown",
   "id": "80c7575f",
   "metadata": {},
   "source": [
    "Retail Price Optimization Model:"
   ]
  },
  {
   "cell_type": "code",
   "execution_count": null,
   "id": "2f52e1a2",
   "metadata": {},
   "outputs": [],
   "source": [
    "from sklearn.model_selection import train_test_split\n",
    "from sklearn.tree import DecisionTreeRegressor\n",
    "from sklearn.metrics import mean_squared_error"
   ]
  },
  {
   "cell_type": "code",
   "execution_count": null,
   "id": "a0e6a121",
   "metadata": {},
   "outputs": [],
   "source": [
    "X = data[['qty', 'unit_price', 'comp_1', 'product_score', 'comp_price_diff']]\n",
    "y = data['total_price']"
   ]
  },
  {
   "cell_type": "code",
   "execution_count": null,
   "id": "e114c6be",
   "metadata": {},
   "outputs": [],
   "source": [
    "X_train, X_test, y_train, y_test = train_test_split(X, y, test_size=0.2, random_state=42)"
   ]
  },
  {
   "cell_type": "markdown",
   "id": "009773c8",
   "metadata": {},
   "source": [
    "Now it is time to train the linear regression model:"
   ]
  },
  {
   "cell_type": "code",
   "execution_count": null,
   "id": "cb8c0dd2",
   "metadata": {},
   "outputs": [],
   "source": [
    "model = DecisionTreeRegressor()\n",
    "model.fit(X_train, y_train)"
   ]
  },
  {
   "cell_type": "markdown",
   "id": "3e07bace",
   "metadata": {},
   "source": [
    "With the model now trained, we can make predictions for retail prices compared to the actual retail prices:"
   ]
  },
  {
   "cell_type": "code",
   "execution_count": null,
   "id": "48938663",
   "metadata": {},
   "outputs": [],
   "source": [
    "y_pred = model.predict(X_test)"
   ]
  },
  {
   "cell_type": "code",
   "execution_count": null,
   "id": "4d2dc391",
   "metadata": {},
   "outputs": [],
   "source": [
    "fig = go.Figure()\n",
    "fig.add_trace(go.Scatter(x=y_test, y=y_pred, mode='markers', marker=dict(color='blue'),\n",
    "                         name='Predicted vs Actual Retail Price'))\n",
    "fig.add_trace(go.Scatter(x=[min(y_test), max(y_test)], y=[min(y_test), max(y_test)], mode='lines',\n",
    "                         marker=dict(color='red'), name='Ideal Prediction'))\n",
    "fig.update_layout(title='Predicted vs Actual Retail Price', xaxis_title='Actual Retail Price',\n",
    "                  yaxis_title='Predicted Retail Price')\n",
    "fig.show()"
   ]
  },
  {
   "cell_type": "markdown",
   "id": "8a2692db",
   "metadata": {},
   "source": [
    "This machine learning model allows us to see predicted and actual retail prices that can be utilized to optimally price products. For example, a clear example would be the product that's actual price is near 12k, our model predicts the retail price should be closer to 8k suggesting that the price should be lowered to hopefully maximize profits while having satisfied customers. Using this model, prices can be adjusted accordingly in such a way that there is balance between profit and customer attraction."
   ]
  }
 ],
 "metadata": {
  "kernelspec": {
   "display_name": "Python 3 (ipykernel)",
   "language": "python",
   "name": "python3"
  },
  "language_info": {
   "codemirror_mode": {
    "name": "ipython",
    "version": 3
   },
   "file_extension": ".py",
   "mimetype": "text/x-python",
   "name": "python",
   "nbconvert_exporter": "python",
   "pygments_lexer": "ipython3",
   "version": "3.9.13"
  }
 },
 "nbformat": 4,
 "nbformat_minor": 5
}
